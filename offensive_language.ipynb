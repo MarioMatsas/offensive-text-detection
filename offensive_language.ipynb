{
 "cells": [
  {
   "cell_type": "markdown",
   "id": "f2f88f9c",
   "metadata": {},
   "source": [
    "## Imports"
   ]
  },
  {
   "cell_type": "code",
   "execution_count": 32,
   "id": "b600cc4c",
   "metadata": {},
   "outputs": [],
   "source": [
    "from datasets import load_dataset\n",
    "from sklearn.model_selection import train_test_split\n",
    "import pandas as pd\n",
    "import ast"
   ]
  },
  {
   "cell_type": "markdown",
   "id": "6f82a628",
   "metadata": {},
   "source": [
    "## Proccess data\n",
    "1. **SemEval-2021 Task 5: Toxic Spans Detection**, to detect the offensive part of the message\n",
    "2. **Jigsaw**, to detect toxic messages"
   ]
  },
  {
   "cell_type": "code",
   "execution_count": 33,
   "id": "c59878b8",
   "metadata": {},
   "outputs": [],
   "source": [
    "# Helper function for the SemEval-2021 Task 5: Toxic Spans Detection dataset\n",
    "def extract_text_and_spans(dataset_split):\n",
    "    X = []  # texts\n",
    "    y = []  # spans\n",
    "    \n",
    "    for sample in dataset_split:\n",
    "        text = sample[\"text_of_post\"]\n",
    "        X.append(text)\n",
    "        # Parse positions and convert to spans\n",
    "        try:\n",
    "            toxic_positions = ast.literal_eval(sample[\"position\"])\n",
    "        except:\n",
    "            toxic_positions = []\n",
    "        # Convert positions to spans [start, end)\n",
    "        spans = []\n",
    "        if toxic_positions:\n",
    "            toxic_positions = sorted(toxic_positions)\n",
    "            start = toxic_positions[0]\n",
    "            end = toxic_positions[0]\n",
    "            \n",
    "            for pos in toxic_positions[1:]:\n",
    "                if pos == end + 1:  # Consecutive\n",
    "                    end = pos\n",
    "                else:  # Gap found\n",
    "                    spans.append([start, end + 1])\n",
    "                    start = pos\n",
    "                    end = pos\n",
    "            spans.append([start, end + 1])\n",
    "        y.append(spans)\n",
    "    \n",
    "    return X, y"
   ]
  },
  {
   "cell_type": "code",
   "execution_count": 34,
   "id": "e7901fef",
   "metadata": {},
   "outputs": [],
   "source": [
    "# SemEval-2021 Task 5: Toxic Spans Detection\n",
    "dataset = load_dataset(\"heegyu/toxic-spans\")\n",
    "train = dataset[\"train\"]\n",
    "test = dataset[\"test\"]\n",
    "X_train_span, y_train_span = extract_text_and_spans(train)\n",
    "X_test_span, y_test_span = extract_text_and_spans(test)\n",
    "\n",
    "# Jigsaw\n",
    "# -Train / Val-\n",
    "subcategories = [\"severe_toxic\", \"obscene\", \"threat\", \"insult\", \"identity_hate\"]\n",
    "train_data = pd.read_csv(\"jigsaw-toxic-comment-data/train.csv\")\n",
    "# If any subcategory is 1, set toxic to 1\n",
    "train_data[\"toxic\"] = train_data[[\"toxic\"] + subcategories].max(axis=1)\n",
    "X_train_toxic = train_data[\"comment_text\"]\n",
    "y_train_toxic = train_data[\"toxic\"]\n",
    "# Split to train and val\n",
    "X_train_toxic, X_val_toxic, y_train_toxic, y_val_toxic = train_test_split(\n",
    "    X_train_toxic, y_train_toxic, test_size=0.15, stratify=y_train_toxic, random_state=2025\n",
    ")\n",
    "\n",
    "# -Test-\n",
    "test_text = pd.read_csv(\"jigsaw-toxic-comment-data/test.csv\")\n",
    "test_labels = pd.read_csv(\"jigsaw-toxic-comment-data/test_labels.csv\")\n",
    "# Keep only rows where toxic is not -1\n",
    "mask = test_labels[\"toxic\"] != -1\n",
    "test_text = test_text[mask].reset_index(drop=True)\n",
    "test_labels = test_labels[mask].reset_index(drop=True)\n",
    "test_labels[\"toxic\"] = test_labels[[\"toxic\"] + subcategories].max(axis=1)\n",
    "X_test_toxic = test_text[\"comment_text\"]\n",
    "y_test_toxic = test_labels[\"toxic\"]\n",
    "\n"
   ]
  }
 ],
 "metadata": {
  "kernelspec": {
   "display_name": "Python 3",
   "language": "python",
   "name": "python3"
  },
  "language_info": {
   "codemirror_mode": {
    "name": "ipython",
    "version": 3
   },
   "file_extension": ".py",
   "mimetype": "text/x-python",
   "name": "python",
   "nbconvert_exporter": "python",
   "pygments_lexer": "ipython3",
   "version": "3.10.8"
  }
 },
 "nbformat": 4,
 "nbformat_minor": 5
}
